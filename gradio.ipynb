{
  "cells": [
    {
      "cell_type": "markdown",
      "metadata": {
        "id": "view-in-github",
        "colab_type": "text"
      },
      "source": [
        "<a href=\"https://colab.research.google.com/github/zzh24zzh/EPCOT_gradio/blob/main/gradio.ipynb\" target=\"_parent\"><img src=\"https://colab.research.google.com/assets/colab-badge.svg\" alt=\"Open In Colab\"/></a>"
      ]
    },
    {
      "cell_type": "markdown",
      "source": [
        "### Install required packages"
      ],
      "metadata": {
        "id": "HGikEeDVI5NN"
      }
    },
    {
      "cell_type": "code",
      "execution_count": null,
      "metadata": {
        "id": "go_IiYE8p-Tx"
      },
      "outputs": [],
      "source": [
        "!pip install gradio==3.24.1\n",
        "!pip install gdown\n",
        "!pip install einops\n",
        "!pip install pyBigWig==0.3.17"
      ]
    },
    {
      "cell_type": "markdown",
      "source": [
        "### Clone the repository"
      ],
      "metadata": {
        "id": "B_bAarF7JCdR"
      }
    },
    {
      "cell_type": "code",
      "execution_count": 2,
      "metadata": {
        "colab": {
          "base_uri": "https://localhost:8080/",
          "height": 0
        },
        "id": "GUqb4QzsfVLa",
        "outputId": "2e04db22-2b1f-4a15-8a50-b214c0028d1a"
      },
      "outputs": [
        {
          "output_type": "stream",
          "name": "stdout",
          "text": [
            "Cloning into 'EPCOT_gradio'...\n",
            "remote: Enumerating objects: 377, done.\u001b[K\n",
            "remote: Counting objects: 100% (163/163), done.\u001b[K\n",
            "remote: Compressing objects: 100% (143/143), done.\u001b[K\n",
            "remote: Total 377 (delta 100), reused 49 (delta 20), pack-reused 214\u001b[K\n",
            "Receiving objects: 100% (377/377), 89.28 MiB | 18.41 MiB/s, done.\n",
            "Resolving deltas: 100% (218/218), done.\n",
            "/content/EPCOT_gradio\n"
          ]
        }
      ],
      "source": [
        "!git clone https://github.com/zzh24zzh/EPCOT_gradio.git\n",
        "%cd EPCOT_gradio/"
      ]
    },
    {
      "cell_type": "markdown",
      "source": [
        "###  Download trained models and reference genome data "
      ],
      "metadata": {
        "id": "Ij63hg31JKXY"
      }
    },
    {
      "cell_type": "code",
      "execution_count": 3,
      "metadata": {
        "id": "BlmanwdzIq7s",
        "colab": {
          "base_uri": "https://localhost:8080/",
          "height": 0
        },
        "outputId": "c1b24703-4179-4566-ddc8-c587a8037552"
      },
      "outputs": [
        {
          "output_type": "stream",
          "name": "stdout",
          "text": [
            "Retrieving folder list\n",
            "Processing file 1idZ0bidhmj574132mLrm25eNhejIwCtE cage.pt\n",
            "Processing file 1bmmYHBUzqbywz_6t0vmXzKovF4z6noAT epi_bind.pt\n",
            "Processing file 1PsnhKzUFMxRtLgtd1LSP6DRKGBg-79Yr epi_track.pt\n",
            "Processing file 1dNZ5E5Zo9kT4Wv57hTzrwfyWu-ZrwQ9j hic.pt\n",
            "Processing file 1WvGRBeCSjRU2HBEKeFWAtMQPpbP7Mhi4 microc.pt\n",
            "Retrieving folder list completed\n",
            "Building directory structure\n",
            "Building directory structure completed\n",
            "Downloading...\n",
            "From: https://drive.google.com/uc?id=1idZ0bidhmj574132mLrm25eNhejIwCtE\n",
            "To: /content/EPCOT_gradio/models/cage.pt\n",
            "100% 129M/129M [00:03<00:00, 35.3MB/s]\n",
            "Downloading...\n",
            "From: https://drive.google.com/uc?id=1bmmYHBUzqbywz_6t0vmXzKovF4z6noAT\n",
            "To: /content/EPCOT_gradio/models/epi_bind.pt\n",
            "100% 59.8M/59.8M [00:01<00:00, 49.5MB/s]\n",
            "Downloading...\n",
            "From: https://drive.google.com/uc?id=1PsnhKzUFMxRtLgtd1LSP6DRKGBg-79Yr\n",
            "To: /content/EPCOT_gradio/models/epi_track.pt\n",
            "100% 128M/128M [00:02<00:00, 61.2MB/s]\n",
            "Downloading...\n",
            "From: https://drive.google.com/uc?id=1dNZ5E5Zo9kT4Wv57hTzrwfyWu-ZrwQ9j\n",
            "To: /content/EPCOT_gradio/models/hic.pt\n",
            "100% 54.6M/54.6M [00:01<00:00, 54.4MB/s]\n",
            "Downloading...\n",
            "From: https://drive.google.com/uc?id=1WvGRBeCSjRU2HBEKeFWAtMQPpbP7Mhi4\n",
            "To: /content/EPCOT_gradio/models/microc.pt\n",
            "100% 140M/140M [00:02<00:00, 57.8MB/s]\n",
            "Download completed\n",
            "Downloading...\n",
            "From: https://drive.google.com/uc?id=1IF_PLWpTpr-Q3iyUqrWN6FKYZ6j-1V2c\n",
            "To: /content/EPCOT_gradio/examples/atac_GM12878.pickle\n",
            "100% 192M/192M [00:02<00:00, 73.8MB/s]\n",
            "Downloading...\n",
            "From: https://drive.google.com/uc?id=1iqOKKNFwjl9hMZovxxhG-t_Y1MZw45R0\n",
            "To: /content/EPCOT_gradio/refSeq/hg38.tar.gz\n",
            "100% 3.04G/3.04G [00:47<00:00, 63.4MB/s]\n",
            "hg38/\n",
            "hg38/chr16.npz\n",
            "hg38/chr12.npz\n",
            "hg38/chr21.npz\n",
            "hg38/chr9.npz\n",
            "hg38/chr5.npz\n",
            "hg38/chr6.npz\n",
            "hg38/chr15.npz\n",
            "hg38/chr19.npz\n",
            "hg38/chr11.npz\n",
            "hg38/chr14.npz\n",
            "hg38/chr22.npz\n",
            "hg38/chr13.npz\n",
            "hg38/chr7.npz\n",
            "hg38/chr4.npz\n",
            "hg38/chr17.npz\n",
            "hg38/chr1.npz\n",
            "hg38/chr20.npz\n",
            "hg38/chr2.npz\n",
            "hg38/chr8.npz\n",
            "hg38/chr18.npz\n",
            "hg38/chr10.npz\n",
            "hg38/chr3.npz\n"
          ]
        }
      ],
      "source": [
        "!python download.py "
      ]
    },
    {
      "cell_type": "markdown",
      "source": [
        "### Process ATAC-seq data \n",
        "\n",
        "A .bam file of ATAC-seq is required \n",
        "\n",
        "The processed file in .pickle format will be located in the 'EPCOT_gradio' folder. You can check the message displayed when the script finishes running"
      ],
      "metadata": {
        "id": "63VBVmU-JMed"
      }
    },
    {
      "cell_type": "code",
      "execution_count": null,
      "metadata": {
        "id": "QOZRR3aqMEUa"
      },
      "outputs": [],
      "source": [
        "# install packages\n",
        "!wget https://github.com/samtools/samtools/releases/download/1.17/samtools-1.17.tar.bz2\n",
        "!bunzip2 samtools-1.17.tar.bz2\n",
        "!tar -xf samtools-1.17.tar\n",
        "!apt-get install -q samtools\n",
        "!pip install deepTools==3.5.1"
      ]
    },
    {
      "cell_type": "code",
      "execution_count": null,
      "metadata": {
        "id": "ao9vRAdVTPb0"
      },
      "outputs": [],
      "source": [
        "# usage: python atac_process.py -b <an ATAC-seq bam file> -p <number of processers used in deepTools bamCoverage function\n",
        "\n",
        "!python atac_process.py -b <enter your .bam file> -p 12"
      ]
    },
    {
      "cell_type": "markdown",
      "source": [
        "### Lunch the demo\n",
        "The Gradio demo has two interfaces: **(1) Run Model**, and **(2) Visualize Prediction Results**.\n",
        "\n",
        "In the first interface, users can enter a genomic region and execute models to generate predictions, including\n",
        "\n",
        "* a file named **\"prediction_xxxx.npz\"**, which can be uploaded to the second interface for visualization,\n",
        "* a file named **\"formatted_xxxx.zip\"**, which contains ChIP-seq and CAGE-seq data in .bigWig format, and contact maps in .bedpe format.\n",
        "\n",
        "The two files can also be found under the **\"results/\"** folder. Furthermore, the file upload block has been replaced with a textbox block here, allowing you to simply enter the path to the processed ATAC-seq file, as uploading it can be quite slow. \n",
        "\n"
      ],
      "metadata": {
        "id": "3oD99dgaJ07-"
      }
    },
    {
      "cell_type": "code",
      "execution_count": null,
      "metadata": {
        "colab": {
          "base_uri": "https://localhost:8080/",
          "height": 987
        },
        "id": "meKIalodmjNT",
        "outputId": "d9fe5772-7bc4-43ae-fb35-23066d2462be"
      },
      "outputs": [
        {
          "output_type": "stream",
          "name": "stderr",
          "text": [
            "/usr/local/lib/python3.9/dist-packages/gradio/deprecation.py:43: UserWarning: You have unused kwarg parameters in Dropdown, please remove them: {'default': '1'}\n",
            "  warnings.warn(\n",
            "/usr/local/lib/python3.9/dist-packages/gradio/blocks.py:254: UserWarning: api_name predict already exists, using predict_1\n",
            "  warnings.warn(\n",
            "/usr/local/lib/python3.9/dist-packages/gradio/blocks.py:254: UserWarning: api_name predict already exists, using predict_2\n",
            "  warnings.warn(\n",
            "/usr/local/lib/python3.9/dist-packages/gradio/blocks.py:254: UserWarning: api_name predict already exists, using predict_3\n",
            "  warnings.warn(\n",
            "/usr/local/lib/python3.9/dist-packages/gradio/blocks.py:254: UserWarning: api_name predict already exists, using predict_4\n",
            "  warnings.warn(\n",
            "/usr/local/lib/python3.9/dist-packages/gradio/blocks.py:254: UserWarning: api_name predict already exists, using predict_5\n",
            "  warnings.warn(\n",
            "/usr/local/lib/python3.9/dist-packages/gradio/blocks.py:254: UserWarning: api_name predict already exists, using predict_6\n",
            "  warnings.warn(\n",
            "/usr/local/lib/python3.9/dist-packages/gradio/blocks.py:753: UserWarning: api_name predict already exists, using predict_1\n",
            "  warnings.warn(\n",
            "/usr/local/lib/python3.9/dist-packages/gradio/blocks.py:753: UserWarning: api_name predict_1 already exists, using predict_1_1\n",
            "  warnings.warn(\n"
          ]
        },
        {
          "output_type": "stream",
          "name": "stdout",
          "text": [
            "Colab notebook detected. This cell will run indefinitely so that you can see errors and logs. To turn off, set debug=False in launch().\n",
            "Running on public URL: https://01a8321b47fd598f68.gradio.live\n",
            "\n",
            "This share link expires in 72 hours. For free permanent hosting and GPU upgrades (NEW!), check out Spaces: https://huggingface.co/spaces\n"
          ]
        },
        {
          "output_type": "display_data",
          "data": {
            "text/plain": [
              "<IPython.core.display.HTML object>"
            ],
            "text/html": [
              "<div><iframe src=\"https://01a8321b47fd598f68.gradio.live\" width=\"100%\" height=\"500\" allow=\"autoplay; camera; microphone; clipboard-read; clipboard-write;\" frameborder=\"0\" allowfullscreen></iframe></div>"
            ]
          },
          "metadata": {}
        },
        {
          "output_type": "stream",
          "name": "stdout",
          "text": [
            "cuda:0\n",
            "torch.Size([1, 500, 768])\n",
            "cuda:0\n"
          ]
        }
      ],
      "source": [
        "import gradio as gr\n",
        "import os\n",
        "from func_gradio import predict_func_for_colab,make_plots\n",
        "\n",
        "inputs = [\n",
        "    gr.Dropdown([str(i) for i in range(1,23)],label='Chromosome',default='1'),\n",
        "    gr.Dropdown(['Micro-C', 'Hi-C (ChIA-PET)'],label='Chromatin contact map', info='One type of contact map is predicted for each time'),\n",
        "    gr.Number(label='Region of interest (500kb for Micro-C and 1Mb for Hi-C)',info='From'),\n",
        "    gr.Number(info='To',show_label=False),\n",
        "    gr.Textbox(label=\"ATAC-seq file\",info=\"Path to the processed ATAC-seq file\",lines=1),\n",
        "]\n",
        "outputs = [gr.Files(label='Download the results')]\n",
        "app1 = gr.Interface(\n",
        "    fn=predict_func_for_colab,inputs=inputs,outputs=outputs,\n",
        "    title='A computational tool to use ATAC-seq to impute epigenome, transcriptome, and high-resolution chromatin contact maps',\n",
        "    description='<a href=\"https://github.com/zzh24zzh/EPCOT_gradio\" class=\"built-with svelte-1lyswbr\" target=\"_blank\" '\n",
        "                'style=\"font-size: 15px; font-color: black; font-weight:bold\" rel=\"noreferrer\"> View Documentation </a>',\n",
        "    examples=[[\"11\", \"Micro-C\", \"10500000\", \"11000000\", \"examples/atac_GM12878.pickle\"],\n",
        "              [\"11\", \"Hi-C (ChIA-PET)\", \"7750000\", \"8750000\", \"examples/atac_GM12878.pickle\"]]\n",
        ")\n",
        "\n",
        "with open(os.path.abspath('data/epigenomes.txt'), 'r') as f:\n",
        "    epis=f.read().splitlines()\n",
        "inputs1 = [\n",
        "    gr.File(label=\"Prediction file (in .npz format))\"),\n",
        "    gr.Markdown(value='### Visualization options'),\n",
        "    gr.Dropdown(epis,label='Epigenome features',multiselect=True,max_choices=10,value=['CTCF','H3K4me3']),\n",
        "    gr.Radio(choices=['Signal p-values (archsinh)','Binding probability'], label='Type of epigenomic feature data', value='Signal p-values (archsinh)'),\n",
        "    gr.Slider(maximum=16,label='Range of values displayed on the plots',info=\"Choose between 0 and 16 (contact maps)\",value=4),\n",
        "    gr.Slider(minimum=2,maximum=12,info=\"Choose between 2 and 12 (epigenomic feature signals)\",value=4,show_label=False),\n",
        "    gr.Slider(minimum=2,maximum=12,info=\"Choose between 2 and 12 (CAGE-seq)\",value=8,show_label=False),\n",
        "]\n",
        "outputs1 = gr.Plot(label='Plots')\n",
        "app2 = gr.Interface(\n",
        "    fn=make_plots,\n",
        "    inputs=inputs1,\n",
        "    outputs=outputs1,\n",
        "    live=True,\n",
        "    allow_flagging='manual'\n",
        ")\n",
        "\n",
        "demo = gr.TabbedInterface([app1, app2], [\"Run Model\", \"Visualize Prediction Results\"], theme=gr.themes.Soft())\n",
        "demo.launch(debug=True,share=True)"
      ]
    },
    {
      "cell_type": "code",
      "execution_count": null,
      "metadata": {
        "id": "-qkxx-u8kAyp"
      },
      "outputs": [],
      "source": []
    }
  ],
  "metadata": {
    "accelerator": "GPU",
    "colab": {
      "provenance": [],
      "authorship_tag": "ABX9TyPK5HUvMJuZWEnv7fjN5Qzu",
      "include_colab_link": true
    },
    "gpuClass": "premium",
    "kernelspec": {
      "display_name": "Python 3",
      "name": "python3"
    },
    "language_info": {
      "name": "python"
    }
  },
  "nbformat": 4,
  "nbformat_minor": 0
}