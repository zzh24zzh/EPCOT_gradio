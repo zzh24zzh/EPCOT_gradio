{
  "cells": [
    {
      "cell_type": "markdown",
      "metadata": {
        "id": "view-in-github",
        "colab_type": "text"
      },
      "source": [
        "<a href=\"https://colab.research.google.com/github/zzh24zzh/EPCOT_gradio/blob/main/gradio.ipynb\" target=\"_parent\"><img src=\"https://colab.research.google.com/assets/colab-badge.svg\" alt=\"Open In Colab\"/></a>"
      ]
    },
    {
      "cell_type": "markdown",
      "metadata": {
        "id": "HGikEeDVI5NN"
      },
      "source": [
        "### Install required packages"
      ]
    },
    {
      "cell_type": "code",
      "execution_count": null,
      "metadata": {
        "id": "go_IiYE8p-Tx"
      },
      "outputs": [],
      "source": [
        "!pip install gradio==3.24.1\n",
        "!pip install gdown\n",
        "!pip install einops\n",
        "!pip install pyBigWig==0.3.17\n",
        "!pip install deepTools==3.5.1"
      ]
    },
    {
      "cell_type": "code",
      "source": [
        "# install samtools\n",
        "!wget https://github.com/samtools/samtools/releases/download/1.17/samtools-1.17.tar.bz2\n",
        "!bunzip2 samtools-1.17.tar.bz2\n",
        "!tar -xf samtools-1.17.tar\n",
        "!apt-get install -q samtools"
      ],
      "metadata": {
        "id": "K7ibQ1i06WxW"
      },
      "execution_count": null,
      "outputs": []
    },
    {
      "cell_type": "markdown",
      "metadata": {
        "id": "B_bAarF7JCdR"
      },
      "source": [
        "### Clone the repository"
      ]
    },
    {
      "cell_type": "code",
      "execution_count": null,
      "metadata": {
        "id": "GUqb4QzsfVLa"
      },
      "outputs": [],
      "source": [
        "!git clone https://github.com/zzh24zzh/EPCOT_gradio.git\n",
        "%cd EPCOT_gradio/"
      ]
    },
    {
      "cell_type": "markdown",
      "metadata": {
        "id": "Ij63hg31JKXY"
      },
      "source": [
        "###  Download trained models and reference genome data "
      ]
    },
    {
      "cell_type": "code",
      "execution_count": null,
      "metadata": {
        "id": "BlmanwdzIq7s"
      },
      "outputs": [],
      "source": [
        "!python download.py "
      ]
    },
    {
      "cell_type": "markdown",
      "metadata": {
        "id": "63VBVmU-JMed"
      },
      "source": [
        "### Process ATAC-seq data \n",
        "\n",
        "You'll need a .bam file of ATAC-seq data. Here's an example of how to read and process a .bam file stored in Google Drive:\n",
        "```\n",
        "#mount your Google Drive to the Google Colab environment\n",
        "from google.colab import drive\n",
        "drive.mount('/content/gdrive')\n",
        "```\n",
        "```\n",
        "#usage: python atac_process.py -b <an ATAC-seq bam file> -p <number of processers used in deepTools bamCoverage function\n",
        "!python atac_process.py -b /content/gdrive/MyDrive/GM12878.bam -p 12 \n",
        "```\n",
        "\n",
        "The processed file will be in .pickle format and stored in the \"EPCOT_gradio/\" folder. Check the message displayed when the script finishes running to confirm the location of the processed ATAC-seq file. You'll need the path of the processed ATAC-seq file to run the demo."
      ]
    },
    {
      "cell_type": "code",
      "execution_count": null,
      "metadata": {
        "id": "ao9vRAdVTPb0"
      },
      "outputs": [],
      "source": [
        "!python atac_process.py -b <enter your .bam file> -p 12"
      ]
    },
    {
      "cell_type": "markdown",
      "metadata": {
        "id": "3oD99dgaJ07-"
      },
      "source": [
        "### Lunch the demo\n",
        "The Gradio demo has two interfaces: **(1) Run Model**, and **(2) Visualize Prediction Results**.\n",
        "\n",
        "In the first interface, users can enter a genomic region and execute models to generate predictions, including\n",
        "\n",
        "* a file named **\"prediction_xxxx.npz\"**, which can be uploaded to the second interface for visualization,\n",
        "* a compressed file named **\"formatted_xxxx.zip\"**, which contains ChIP-seq and CAGE-seq data in .bigWig format, and contact maps in .bedpe format.\n",
        "\n",
        "The two files can also be found under the **\"EPCOT_gradio/results/\"** directory. \n",
        "\n",
        "The file upload block has been replaced with a textbox block here, allowing you to simply enter the path to the processed ATAC-seq file, as uploading it can be quite slow. To help you try the demo, we provide an example ATAC-seq file located at \"examples/atac_GM12878.pickle\".\n",
        "\n"
      ]
    },
    {
      "cell_type": "code",
      "execution_count": null,
      "metadata": {
        "colab": {
          "background_save": true,
          "base_uri": "https://localhost:8080/",
          "height": 969
        },
        "id": "meKIalodmjNT",
        "outputId": "38f3db32-b738-4bd9-ba9b-764fe7617ea5"
      },
      "outputs": [
        {
          "output_type": "stream",
          "name": "stderr",
          "text": [
            "/usr/local/lib/python3.9/dist-packages/gradio/deprecation.py:43: UserWarning: You have unused kwarg parameters in Dropdown, please remove them: {'default': '1'}\n",
            "  warnings.warn(\n",
            "/usr/local/lib/python3.9/dist-packages/gradio/blocks.py:254: UserWarning: api_name predict already exists, using predict_1\n",
            "  warnings.warn(\n",
            "/usr/local/lib/python3.9/dist-packages/gradio/blocks.py:254: UserWarning: api_name predict already exists, using predict_2\n",
            "  warnings.warn(\n",
            "/usr/local/lib/python3.9/dist-packages/gradio/blocks.py:254: UserWarning: api_name predict already exists, using predict_3\n",
            "  warnings.warn(\n",
            "/usr/local/lib/python3.9/dist-packages/gradio/blocks.py:254: UserWarning: api_name predict already exists, using predict_4\n",
            "  warnings.warn(\n",
            "/usr/local/lib/python3.9/dist-packages/gradio/blocks.py:254: UserWarning: api_name predict already exists, using predict_5\n",
            "  warnings.warn(\n",
            "/usr/local/lib/python3.9/dist-packages/gradio/blocks.py:254: UserWarning: api_name predict already exists, using predict_6\n",
            "  warnings.warn(\n",
            "/usr/local/lib/python3.9/dist-packages/gradio/blocks.py:753: UserWarning: api_name predict already exists, using predict_1\n",
            "  warnings.warn(\n",
            "/usr/local/lib/python3.9/dist-packages/gradio/blocks.py:753: UserWarning: api_name predict_1 already exists, using predict_1_1\n",
            "  warnings.warn(\n"
          ]
        },
        {
          "output_type": "stream",
          "name": "stdout",
          "text": [
            "Colab notebook detected. This cell will run indefinitely so that you can see errors and logs. To turn off, set debug=False in launch().\n",
            "Running on public URL: https://b0b9a2cafb2d88870a.gradio.live\n",
            "\n",
            "This share link expires in 72 hours. For free permanent hosting and GPU upgrades (NEW!), check out Spaces: https://huggingface.co/spaces\n"
          ]
        },
        {
          "output_type": "display_data",
          "data": {
            "text/plain": [
              "<IPython.core.display.HTML object>"
            ],
            "text/html": [
              "<div><iframe src=\"https://b0b9a2cafb2d88870a.gradio.live\" width=\"100%\" height=\"500\" allow=\"autoplay; camera; microphone; clipboard-read; clipboard-write;\" frameborder=\"0\" allowfullscreen></iframe></div>"
            ]
          },
          "metadata": {}
        },
        {
          "output_type": "stream",
          "name": "stdout",
          "text": [
            "cuda:0\n",
            "torch.Size([1, 500, 768])\n"
          ]
        }
      ],
      "source": [
        "import gradio as gr\n",
        "import os\n",
        "from func_gradio import predict_func_for_colab,make_plots\n",
        "\n",
        "inputs = [\n",
        "    gr.Dropdown([str(i) for i in range(1,23)],label='Chromosome',default='1'),\n",
        "    gr.Dropdown(['Micro-C', 'Hi-C (ChIA-PET)'],label='Chromatin contact map', info='One type of contact map is predicted for each time'),\n",
        "    gr.Number(label='Region of interest (500kb for Micro-C and 1Mb for Hi-C)',info='From'),\n",
        "    gr.Number(info='To',show_label=False),\n",
        "    gr.Textbox(label=\"ATAC-seq file\",info=\"Path to the processed ATAC-seq file\",lines=1),\n",
        "]\n",
        "outputs = [gr.Files(label='Download the results')]\n",
        "app1 = gr.Interface(\n",
        "    fn=predict_func_for_colab,inputs=inputs,outputs=outputs,\n",
        "    title='A computational tool to use ATAC-seq to impute epigenome, transcriptome, and high-resolution chromatin contact maps',\n",
        "    description='<a href=\"https://github.com/zzh24zzh/EPCOT_gradio\" class=\"built-with svelte-1lyswbr\" target=\"_blank\" '\n",
        "                'style=\"font-size: 15px; font-color: black; font-weight:bold\" rel=\"noreferrer\"> View Documentation </a>',\n",
        "    examples=[[\"11\", \"Micro-C\", \"10500000\", \"11000000\", \"examples/atac_GM12878.pickle\"],\n",
        "              [\"11\", \"Hi-C (ChIA-PET)\", \"7750000\", \"8750000\", \"examples/atac_GM12878.pickle\"]]\n",
        ")\n",
        "\n",
        "with open(os.path.abspath('data/epigenomes.txt'), 'r') as f:\n",
        "    epis=f.read().splitlines()\n",
        "inputs1 = [\n",
        "    gr.File(label=\"Prediction file (in .npz format))\"),\n",
        "    gr.Markdown(value='### Visualization options'),\n",
        "    gr.Dropdown(epis,label='Epigenome features',multiselect=True,max_choices=10,value=['CTCF','H3K4me3']),\n",
        "    gr.Radio(choices=['Signal p-values (archsinh)','Binding probability'], label='Type of epigenomic feature data', value='Signal p-values (archsinh)'),\n",
        "    gr.Slider(maximum=16,label='Range of values displayed on the plots',info=\"Choose between 0 and 16 (contact maps)\",value=4),\n",
        "    gr.Slider(minimum=2,maximum=12,info=\"Choose between 2 and 12 (epigenomic feature signals)\",value=4,show_label=False),\n",
        "    gr.Slider(minimum=2,maximum=12,info=\"Choose between 2 and 12 (CAGE-seq)\",value=8,show_label=False),\n",
        "]\n",
        "outputs1 = gr.Plot(label='Plots')\n",
        "app2 = gr.Interface(\n",
        "    fn=make_plots,\n",
        "    inputs=inputs1,\n",
        "    outputs=outputs1,\n",
        "    live=True,\n",
        ")\n",
        "\n",
        "demo = gr.TabbedInterface([app1, app2], [\"Run Model\", \"Visualize Prediction Results\"], theme=gr.themes.Soft())\n",
        "demo.launch(debug=True,share=True)"
      ]
    }
  ],
  "metadata": {
    "accelerator": "GPU",
    "colab": {
      "provenance": [],
      "authorship_tag": "ABX9TyOu4s8b86U6m4uYNVDR9PSa",
      "include_colab_link": true
    },
    "gpuClass": "premium",
    "kernelspec": {
      "display_name": "Python 3",
      "name": "python3"
    },
    "language_info": {
      "name": "python"
    }
  },
  "nbformat": 4,
  "nbformat_minor": 0
}